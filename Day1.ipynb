{
  "nbformat": 4,
  "nbformat_minor": 0,
  "metadata": {
    "colab": {
      "name": "Day1.ipynb",
      "provenance": [],
      "collapsed_sections": [],
      "authorship_tag": "ABX9TyM9ElFEFyqkbTs+k//gtqlb",
      "include_colab_link": true
    },
    "kernelspec": {
      "name": "python3",
      "display_name": "Python 3"
    },
    "language_info": {
      "name": "python"
    }
  },
  "cells": [
    {
      "cell_type": "markdown",
      "metadata": {
        "id": "view-in-github",
        "colab_type": "text"
      },
      "source": [
        "<a href=\"https://colab.research.google.com/github/iqran-star/HTMLPROJECT/blob/master/Day1.ipynb\" target=\"_parent\"><img src=\"https://colab.research.google.com/assets/colab-badge.svg\" alt=\"Open In Colab\"/></a>"
      ]
    },
    {
      "cell_type": "markdown",
      "metadata": {
        "id": "baNkyYXb4g-0"
      },
      "source": [
        "# Week 1\n",
        "# Day 1"
      ]
    },
    {
      "cell_type": "markdown",
      "metadata": {
        "id": "DTEQPVc80v5a"
      },
      "source": [
        "# What is python?\n",
        "Python is a popular programming language. It was created by Guido van Rossum, and released in 1991\n",
        "\n",
        "# installation of python\n",
        "Many PCs and Macs will have python already installed\n",
        "To check if you have python installed on a Windows PC, search in the start bar for Python or run the following on the Command Line (cmd.exe):\n",
        "#  C:\\Users\\Your Name>python --version\n",
        "\n",
        "# how python works?\n",
        "\n",
        "source code -->\n",
        "bytecode -->\n",
        "Run program usin pvm -->\n",
        "interpreter -->\n",
        "binary code -->\n",
        "output  \n",
        "\n",
        " \n",
        "\n",
        "\n",
        "\n",
        "\n",
        "\n",
        "\n",
        "\n",
        "\n",
        "\n",
        "\n",
        "\n",
        "\n"
      ]
    },
    {
      "cell_type": "markdown",
      "metadata": {
        "id": "_iEm5VZvogc0"
      },
      "source": [
        "# print()\n",
        "The print() function prints the specified message to the screen\n",
        "#Syntex:\n",
        "# print(object(s), sep=separator, end=end, file=file, flush=flush)"
      ]
    },
    {
      "cell_type": "code",
      "metadata": {
        "colab": {
          "base_uri": "https://localhost:8080/"
        },
        "id": "1LClKTzj5nta",
        "outputId": "9b993021-cec1-4cfa-fe11-f39695629edc"
      },
      "source": [
        "# import time\n",
        "# print('hello worl' , \"we are know\" ,end=' end ', sep=' % ', flush=True)\n",
        "# time.sleep(10)\n",
        "\n",
        "# import sys\n",
        "# import time\n",
        "  \n",
        "# for i in range(10):\n",
        "#     print(i, end =' ', flush = True)\n",
        "#     time.sleep(1)\n",
        "\n",
        "# import sys\n",
        "# import time\n",
        "  \n",
        "# for i in range(10):\n",
        "#     print(i, end =' ', flush = False)\n",
        "#     time.sleep(1)\n"
      ],
      "execution_count": null,
      "outputs": [
        {
          "output_type": "stream",
          "text": [
            "hello worl % we are know end "
          ],
          "name": "stdout"
        }
      ]
    },
    {
      "cell_type": "markdown",
      "metadata": {
        "id": "_KcL1xqKAdYS"
      },
      "source": [
        "#How to print multiple statement unsing print()"
      ]
    },
    {
      "cell_type": "code",
      "metadata": {
        "id": "4L474INrAome",
        "colab": {
          "base_uri": "https://localhost:8080/"
        },
        "outputId": "94649c24-7fde-4ef8-d9eb-366e0c5f6a69"
      },
      "source": [
        "print('well come to Ehsas lab')"
      ],
      "execution_count": 1,
      "outputs": [
        {
          "output_type": "stream",
          "text": [
            "well come to Ehsas lab\n"
          ],
          "name": "stdout"
        }
      ]
    },
    {
      "cell_type": "code",
      "metadata": {
        "colab": {
          "base_uri": "https://localhost:8080/"
        },
        "id": "jxdrgA0nGQBO",
        "outputId": "dc50a661-a72d-4667-8903-b501417d4bfd"
      },
      "source": [
        "print('well come to Ehsas Lab \\n', 'This is a place for like minded people','from Narowal',sep=' . ' ,end='.',flush=True)"
      ],
      "execution_count": 10,
      "outputs": [
        {
          "output_type": "stream",
          "text": [
            "well come to Ehsas Lab \n",
            " . This is a place for like minded people . from Narowal."
          ],
          "name": "stdout"
        }
      ]
    },
    {
      "cell_type": "code",
      "metadata": {
        "id": "yE9XhNDFHGly"
      },
      "source": [
        "simple=open('document.txt','w')\n",
        "print('Well come',file=simple)\n",
        "simple.close()"
      ],
      "execution_count": 12,
      "outputs": []
    },
    {
      "cell_type": "markdown",
      "metadata": {
        "id": "Rr5NryYBtKHa"
      },
      "source": [
        "# Data type\n",
        "A data type is a classification of data which tells the compiler or interpreter how the programmer intends to use the data. Most programming languages support various types of data, including integer, real, character or string, and Boolean."
      ]
    },
    {
      "cell_type": "markdown",
      "metadata": {
        "id": "nMLgi5bjBUaI"
      },
      "source": [
        "#type() \n",
        "type() method returns class type of the argument(object) passed as parameter."
      ]
    },
    {
      "cell_type": "code",
      "metadata": {
        "colab": {
          "base_uri": "https://localhost:8080/"
        },
        "id": "qhUYZvWcBT2g",
        "outputId": "9fb4f977-ee7c-47e0-c97b-ebab5cfde98c"
      },
      "source": [
        "# print(type('well com'))"
      ],
      "execution_count": null,
      "outputs": [
        {
          "output_type": "stream",
          "text": [
            "<class 'str'>\n"
          ],
          "name": "stdout"
        }
      ]
    },
    {
      "cell_type": "code",
      "metadata": {
        "colab": {
          "base_uri": "https://localhost:8080/"
        },
        "id": "FaO7mzRaB1Jw",
        "outputId": "59ab1239-b091-4c85-98ac-fc06872ee4fe"
      },
      "source": [
        "# a=None\n",
        "# print(type(a))\n"
      ],
      "execution_count": null,
      "outputs": [
        {
          "output_type": "stream",
          "text": [
            "<class 'NoneType'>\n"
          ],
          "name": "stdout"
        }
      ]
    },
    {
      "cell_type": "code",
      "metadata": {
        "colab": {
          "base_uri": "https://localhost:8080/"
        },
        "id": "OPXP9gdACEod",
        "outputId": "bbad252a-554d-49b5-9525-02c6ef0de75e"
      },
      "source": [
        "# a=2\n",
        "# print(type(a))"
      ],
      "execution_count": null,
      "outputs": [
        {
          "output_type": "stream",
          "text": [
            "<class 'int'>\n"
          ],
          "name": "stdout"
        }
      ]
    },
    {
      "cell_type": "markdown",
      "metadata": {
        "id": "9gXyfBahFvm4"
      },
      "source": [
        "#len()\n",
        "len() is a built-in function in python. You can use the len() to get the length of the given string, array, list, tuple, dictionary, etc"
      ]
    },
    {
      "cell_type": "code",
      "metadata": {
        "id": "SsHaeY5nGd6Y"
      },
      "source": [
        "# print(len('well com'))"
      ],
      "execution_count": null,
      "outputs": []
    },
    {
      "cell_type": "code",
      "metadata": {
        "id": "i0XX509XGjhG"
      },
      "source": [
        "# a='this is string'\n",
        "# print(len(a))"
      ],
      "execution_count": null,
      "outputs": []
    },
    {
      "cell_type": "code",
      "metadata": {
        "id": "c2h40GajGp4K"
      },
      "source": [
        ""
      ],
      "execution_count": null,
      "outputs": []
    },
    {
      "cell_type": "markdown",
      "metadata": {
        "id": "B2oiafYCCe0Q"
      },
      "source": [
        "#variable\n",
        "Variables are containers for storing data values.\n"
      ]
    },
    {
      "cell_type": "code",
      "metadata": {
        "colab": {
          "base_uri": "https://localhost:8080/"
        },
        "id": "6H8KK1V9CseX",
        "outputId": "53600fe8-e3f8-4b85-aacb-ad6a587b66df"
      },
      "source": [
        "# a=2\n",
        "# b=3\n",
        "# print('a=',a ,'b=',b)\n"
      ],
      "execution_count": null,
      "outputs": [
        {
          "output_type": "stream",
          "text": [
            "a= 2 b= 3\n"
          ],
          "name": "stdout"
        }
      ]
    },
    {
      "cell_type": "markdown",
      "metadata": {
        "id": "zqIRo4ofId9-"
      },
      "source": [
        "#how print sum of first 10 numbers"
      ]
    },
    {
      "cell_type": "code",
      "metadata": {
        "colab": {
          "base_uri": "https://localhost:8080/"
        },
        "id": "MI4sPBibCtZG",
        "outputId": "55fd22b0-b536-4d23-d9b2-a04bea7e3150"
      },
      "source": [
        "n=10\n",
        "print(n*(n+1)/2)"
      ],
      "execution_count": null,
      "outputs": [
        {
          "output_type": "stream",
          "text": [
            "55.0\n"
          ],
          "name": "stdout"
        }
      ]
    },
    {
      "cell_type": "markdown",
      "metadata": {
        "id": "NAAVQj5yHNWm"
      },
      "source": [
        "# input()\n",
        "\n",
        "The input() function allows user input.\n",
        "#syntex:\n",
        "input(prompt)"
      ]
    },
    {
      "cell_type": "code",
      "metadata": {
        "id": "-krvSVuBH9Ch"
      },
      "source": [
        "print(input('Enter your name'))"
      ],
      "execution_count": null,
      "outputs": []
    },
    {
      "cell_type": "code",
      "metadata": {
        "id": "VUKLKSO1ICBz"
      },
      "source": [
        "a=input('Enter your name')\n",
        "print('Your name is:',a)"
      ],
      "execution_count": null,
      "outputs": []
    },
    {
      "cell_type": "markdown",
      "metadata": {
        "id": "8CLOLWWqI1SW"
      },
      "source": [
        "#How to print sum of n numbers\n",
        "\n",
        "\n",
        "\n"
      ]
    },
    {
      "cell_type": "code",
      "metadata": {
        "id": "judDCC8lI07Q"
      },
      "source": [
        "sum_of_no=int(input('Enter the number'))\n",
        "print(sum_of_no)"
      ],
      "execution_count": null,
      "outputs": []
    }
  ]
}